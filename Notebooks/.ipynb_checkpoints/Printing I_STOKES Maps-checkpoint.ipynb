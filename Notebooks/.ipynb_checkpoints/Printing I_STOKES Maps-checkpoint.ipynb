{
 "cells": [
  {
   "cell_type": "code",
   "execution_count": 31,
   "id": "ee8cd8f1-e07c-4a95-9ea3-00241c256202",
   "metadata": {
    "tags": []
   },
   "outputs": [],
   "source": [
    "import numpy as np\n",
    "from astropy.io import fits\n",
    "import matplotlib.pyplot as plt\n",
    "import healpy as hp\n",
    "import wget\n",
    "import os\n",
    "from fsspec.registry import known_implementations"
   ]
  },
  {
   "cell_type": "code",
   "execution_count": 32,
   "id": "d7132d72-4bb5-4845-9102-4fdb03b8b17c",
   "metadata": {
    "tags": []
   },
   "outputs": [],
   "source": [
    "\n",
    "DataHeaders = ['030','044','10_070','20_070','100','143','217','353','545','857']\n",
    "#wget code taken from Prof. David Hogg\n",
    "url = 'https://irsa.ipac.caltech.edu/data/Planck/release_2/all-sky-maps/maps/'\n",
    "fns = ['LFI_SkyMap_030_1024_R2.01_full.fits',\n",
    "       'LFI_SkyMap_044_1024_R2.01_full.fits',\n",
    "       'LFI_SkyMap_070_1024_R2.01_full.fits',\n",
    "       'LFI_SkyMap_070_2048_R2.01_full.fits',\n",
    "       'HFI_SkyMap_100_2048_R2.02_full.fits',\n",
    "       'HFI_SkyMap_143_2048_R2.02_full.fits',\n",
    "       'HFI_SkyMap_217_2048_R2.02_full.fits',\n",
    "       'HFI_SkyMap_353_2048_R2.02_full.fits',\n",
    "       'HFI_SkyMap_545_2048_R2.02_full.fits',\n",
    "       'HFI_SkyMap_857_2048_R2.02_full.fits']\n",
    "for fn in fns:\n",
    "    if os.path.isfile(fn)==False:\n",
    "        wget.download(url+fn)"
   ]
  },
  {
   "cell_type": "code",
   "execution_count": null,
   "id": "2afebc78-ca98-4351-9168-8117ee5f4b57",
   "metadata": {
    "tags": []
   },
   "outputs": [],
   "source": [
    "\n",
    "for i in range(0,len(fns)):\n",
    "    I = fits.open(fns[i],use_fsspec=True)\n",
    "    DATA = I[1].data['I_STOKES']\n",
    "    if i < 8:\n",
    "        hp.mollview(DATA,min=-1*10**-3,max=1*10**-3,norm='hist',coord='G',nest=True,flip='astro',unit='Kcmb',cmap='Spectral_r')\n",
    "    if i >= 8:\n",
    "        hp.mollview(DATA,norm='hist',coord='G',nest=True,flip='astro',unit='Kcmb',cmap='Spectral_r')\n",
    "    title='I_STOKES ' + DataHeaders[i]\n",
    "    plt.title(title)\n",
    "    #Saving to a directory: https://stackoverflow.com/questions/11373610/save-matplotlib-file-to-a-directory\n",
    "    plt.savefig(os.getcwd()+'/PlanckSatData/I_STOKESmaps/'+title+'.png')"
   ]
  }
 ],
 "metadata": {
  "kernelspec": {
   "display_name": "Python 3 (ipykernel)",
   "language": "python",
   "name": "python3"
  },
  "language_info": {
   "codemirror_mode": {
    "name": "ipython",
    "version": 3
   },
   "file_extension": ".py",
   "mimetype": "text/x-python",
   "name": "python",
   "nbconvert_exporter": "python",
   "pygments_lexer": "ipython3",
   "version": "3.8.16"
  }
 },
 "nbformat": 4,
 "nbformat_minor": 5
}
